{
 "cells": [
  {
   "cell_type": "code",
   "execution_count": 1,
   "id": "7c68697a",
   "metadata": {},
   "outputs": [],
   "source": [
    "from flask import Flask, render_template, request, jsonify\n",
    "from neo4j import GraphDatabase\n",
    "import spacy\n",
    "import pandas as pd\n",
    "import re\n",
    "\n",
    "\n",
    "app = Flask(__name__)\n",
    "\n",
    "# Load the spaCy English model\n",
    "nlp = spacy.load(\"en_core_web_sm\")\n",
    "\n",
    "# Set up the Neo4j driver\n",
    "driver = GraphDatabase.driver(uri=\"bolt://localhost:7687\", auth=(\"neo4j\", \"projects\"))\n"
   ]
  },
  {
   "cell_type": "code",
   "execution_count": 2,
   "id": "331a5a90",
   "metadata": {},
   "outputs": [],
   "source": [
    "def determine_question_type(nlp_question):\n",
    "    from spacy.lang.en import English\n",
    "\n",
    "    nlp = English()\n",
    "    doc = nlp_question\n",
    "    print(doc)\n",
    "    question_type = \"unknown\"\n",
    "    \n",
    "   \n",
    "    # Identify Type 1 questions\n",
    "    if any((token.text in {\"diseases\"}) for token in doc):\n",
    "        if \"related\" in [token.text for token in doc]:\n",
    "            question_type = \"Type 1\"\n",
    "        elif \"cause\" in [token.text for token in doc]:\n",
    "            question_type = \"Type 1\"\n",
    "     # Identify Type 1 questions\n",
    "    elif any((token.text in {\"antibiotics\", \"drug\"}) for token in doc):\n",
    "        question_type = \"Type 2\"\n",
    "                \n",
    "    elif \"causes\" in [token.text for token in doc] and \"risk\" in [token.text for token in doc]:\n",
    "        question_type = \"Type 3\"\n",
    "            \n",
    "    return question_type"
   ]
  },
  {
   "cell_type": "code",
   "execution_count": 3,
   "id": "0626ce98",
   "metadata": {},
   "outputs": [],
   "source": [
    "def generate_cypher_query(nlp_question,q_type):\n",
    "        doc = nlp(nlp_question)\n",
    "        cypher_query = \"\"\n",
    "        # Read the Excel file\n",
    "        df = pd.read_csv(\"final_diseases_dataset_v2.csv\")\n",
    "\n",
    "        # Create an empty list to store the unique entries\n",
    "        First_Item_Name = []\n",
    "        Second_Item_Name = []\n",
    "\n",
    "        # Iterate over each column in the DataFrame\n",
    "        for col in df.columns:\n",
    "            # Iterate over each value in the column\n",
    "            for value in df['First_Item_Name']:\n",
    "                # Check if the value is not already in the unique list\n",
    "                if value not in First_Item_Name:\n",
    "                    # If the value is unique, add it to the list\n",
    "                    First_Item_Name.append(value)\n",
    "            # Iterate over each value in the column\n",
    "            for value in df['Second_Item_Name']:\n",
    "                # Check if the value is not already in the unique list\n",
    "                if value not in Second_Item_Name:\n",
    "                    # If the value is unique, add it to the list\n",
    "                    Second_Item_Name.append(value)\n",
    "\n",
    "\n",
    "        # Define regular expressions for the target words\n",
    "        regexes = [re.compile(fr'{word}', re.IGNORECASE) for word in Second_Item_Name]\n",
    "        print(Second_Item_Name)\n",
    "      \n",
    "       # Find matching words in Second_Item_Name\n",
    "        matches = []\n",
    "        for regex in regexes:\n",
    "            match = regex.search(nlp_question)\n",
    "            if match:\n",
    "                matches.append(regex.pattern)\n",
    "\n",
    "\n",
    "        print(matches)\n",
    "        first_item_name_ = ''\n",
    "        second_item_name_ = ''\n",
    "        # Get the first and second item names\n",
    "        for i in range(len(matches)):\n",
    "            if i == 0:\n",
    "                first_item_name_ = matches[0]\n",
    "            elif i == 1:\n",
    "                second_item_name_ = matches[1]\n",
    "\n",
    "                \n",
    "\n",
    "        print(\"first_item_name_ = \" + first_item_name_)\n",
    "        print(\"second_item_name_ = \" + second_item_name_)\n",
    "        \n",
    "        \n",
    "        if q_type == \"Type 1\":\n",
    "            cypher_query = f\"MATCH (e:First_Item)-[r:Relation]->(c:Second_Item) WHERE c.Name =~ '{first_item_name_}' OPTIONAL MATCH (e)<-[r_inv:InverseRelation]-(c) RETURN e, r, c, r_inv\"\n",
    "            print(\"Type 1\",cypher_query)\n",
    "        elif q_type == \"Type 2\":\n",
    "            cypher_query = f\"MATCH (e:First_Item)-[r:Relation]->(c:Second_Item) WHERE c.Name =~ '{first_item_name_}' MATCH (e)-[dr:Relation]->(f) WHERE f.Name =~ '{second_item_name_}' RETURN e, r, c, dr, f\"\n",
    "            print(\"Type 2\",cypher_query)\n",
    "        elif q_type == \"Type 3\":\n",
    "            cypher_query = f\"\"\"MATCH (n:First_Item)-[r:Relation{{type: \"may cause\"}}]->(c:Second_Item) WHERE c.Name =~ \"{first_item_name_}\" MATCH (f)-[dr:Relation{{type: \"is a risk factor for\"}}]->(c) RETURN n, f, c, r, dr\"\"\"\n",
    "\n",
    "            print(\"Type 3\",cypher_query)\n",
    "        \n",
    "        return cypher_query\n",
    "            \n",
    "                \n",
    "\n",
    "\n"
   ]
  },
  {
   "cell_type": "code",
   "execution_count": null,
   "id": "1bd8eb82",
   "metadata": {},
   "outputs": [
    {
     "name": "stdout",
     "output_type": "stream",
     "text": [
      " * Serving Flask app \"__main__\" (lazy loading)\n",
      " * Environment: production\n",
      "\u001b[31m   WARNING: This is a development server. Do not use it in a production deployment.\u001b[0m\n",
      "\u001b[2m   Use a production WSGI server instead.\u001b[0m\n",
      " * Debug mode: off\n"
     ]
    },
    {
     "name": "stderr",
     "output_type": "stream",
     "text": [
      " * Running on http://127.0.0.1:8080/ (Press CTRL+C to quit)\n",
      "127.0.0.1 - - [09/May/2023 09:44:30] \"GET / HTTP/1.1\" 200 -\n"
     ]
    },
    {
     "name": "stdout",
     "output_type": "stream",
     "text": [
      "query_text What are the causes and risk factors of Acne vulgaris\n",
      "Parse the natural language query using spaCy What are the causes and risk factors of Acne vulgaris\n"
     ]
    },
    {
     "name": "stderr",
     "output_type": "stream",
     "text": [
      "127.0.0.1 - - [09/May/2023 09:44:40] \"POST /convert_nlp_to_cypher HTTP/1.1\" 200 -\n"
     ]
    },
    {
     "name": "stdout",
     "output_type": "stream",
     "text": [
      "what are the causes and risk factors of acne vulgaris\n",
      "quesType Type 3\n",
      "['Cardiac failure, high output', 'Hypertension, systemic', 'Hematological abnormality', 'Breathlessness', 'Chest pain', 'Copper levels raised (serum or plasma)', 'Headache', 'Hypopigmentation', 'Menorrhagia', 'Flow murmur', 'Roth spots', 'Skin discoloration', 'Anemia', 'Uric acid levels raised (plasma or serum)', 'Hepatic failure', 'Red cell production reduced', 'Rifampicin', 'Sideroblasts', 'Urticaria', 'Arthropathy', 'Pyrexia', 'Hepatocellular jaundice', 'Hepatomegaly', 'Rash', 'Drugs, hormones and biological mediators', 'Antibiotics', 'Pyrazinamide', 'Acneiform lesions', 'Cutaneous abscess', 'Bacteria and bacterial diseases', 'Acne vulgaris']\n",
      "['Acne vulgaris']\n",
      "first_item_name_ = Acne vulgaris\n",
      "second_item_name_ = \n",
      "Type 3 MATCH (n:First_Item)-[r:Relation{type: \"may cause\"}]->(c:Second_Item) WHERE c.Name =~ \"Acne vulgaris\" MATCH (f)-[dr:Relation{type: \"is a risk factor for\"}]->(c) RETURN n, f, c, r, dr\n",
      "MATCH (n:First_Item)-[r:Relation{type: \"may cause\"}]->(c:Second_Item) WHERE c.Name =~ \"Acne vulgaris\" MATCH (f)-[dr:Relation{type: \"is a risk factor for\"}]->(c) RETURN n, f, c, r, dr\n"
     ]
    },
    {
     "name": "stderr",
     "output_type": "stream",
     "text": [
      "127.0.0.1 - - [09/May/2023 09:45:56] \"GET / HTTP/1.1\" 200 -\n"
     ]
    },
    {
     "name": "stdout",
     "output_type": "stream",
     "text": [
      "query_text What diseases are related to Anemia\n",
      "Parse the natural language query using spaCy What diseases are related to Anemia\n"
     ]
    },
    {
     "name": "stderr",
     "output_type": "stream",
     "text": [
      "127.0.0.1 - - [09/May/2023 09:46:00] \"POST /convert_nlp_to_cypher HTTP/1.1\" 200 -\n"
     ]
    },
    {
     "name": "stdout",
     "output_type": "stream",
     "text": [
      "what diseases are related to anemia\n",
      "quesType Type 1\n",
      "['Cardiac failure, high output', 'Hypertension, systemic', 'Hematological abnormality', 'Breathlessness', 'Chest pain', 'Copper levels raised (serum or plasma)', 'Headache', 'Hypopigmentation', 'Menorrhagia', 'Flow murmur', 'Roth spots', 'Skin discoloration', 'Anemia', 'Uric acid levels raised (plasma or serum)', 'Hepatic failure', 'Red cell production reduced', 'Rifampicin', 'Sideroblasts', 'Urticaria', 'Arthropathy', 'Pyrexia', 'Hepatocellular jaundice', 'Hepatomegaly', 'Rash', 'Drugs, hormones and biological mediators', 'Antibiotics', 'Pyrazinamide', 'Acneiform lesions', 'Cutaneous abscess', 'Bacteria and bacterial diseases', 'Acne vulgaris']\n",
      "['Anemia']\n",
      "first_item_name_ = Anemia\n",
      "second_item_name_ = \n",
      "Type 1 MATCH (e:First_Item)-[r:Relation]->(c:Second_Item) WHERE c.Name =~ 'Anemia' OPTIONAL MATCH (e)<-[r_inv:InverseRelation]-(c) RETURN e, r, c, r_inv\n",
      "MATCH (e:First_Item)-[r:Relation]->(c:Second_Item) WHERE c.Name =~ 'Anemia' OPTIONAL MATCH (e)<-[r_inv:InverseRelation]-(c) RETURN e, r, c, r_inv\n",
      "query_text What Antibiotics drugs may cause Hepatic failure\n",
      "Parse the natural language query using spaCy What Antibiotics drugs may cause Hepatic failure\n"
     ]
    },
    {
     "name": "stderr",
     "output_type": "stream",
     "text": [
      "127.0.0.1 - - [09/May/2023 09:46:25] \"POST /convert_nlp_to_cypher HTTP/1.1\" 200 -\n"
     ]
    },
    {
     "name": "stdout",
     "output_type": "stream",
     "text": [
      "what antibiotics drugs may cause hepatic failure\n",
      "quesType Type 2\n",
      "['Cardiac failure, high output', 'Hypertension, systemic', 'Hematological abnormality', 'Breathlessness', 'Chest pain', 'Copper levels raised (serum or plasma)', 'Headache', 'Hypopigmentation', 'Menorrhagia', 'Flow murmur', 'Roth spots', 'Skin discoloration', 'Anemia', 'Uric acid levels raised (plasma or serum)', 'Hepatic failure', 'Red cell production reduced', 'Rifampicin', 'Sideroblasts', 'Urticaria', 'Arthropathy', 'Pyrexia', 'Hepatocellular jaundice', 'Hepatomegaly', 'Rash', 'Drugs, hormones and biological mediators', 'Antibiotics', 'Pyrazinamide', 'Acneiform lesions', 'Cutaneous abscess', 'Bacteria and bacterial diseases', 'Acne vulgaris']\n",
      "['Hepatic failure', 'Antibiotics']\n",
      "first_item_name_ = Hepatic failure\n",
      "second_item_name_ = Antibiotics\n",
      "Type 2 MATCH (e:First_Item)-[r:Relation]->(c:Second_Item) WHERE c.Name =~ 'Hepatic failure' MATCH (e)-[dr:Relation]->(f) WHERE f.Name =~ 'Antibiotics' RETURN e, r, c, dr, f\n",
      "MATCH (e:First_Item)-[r:Relation]->(c:Second_Item) WHERE c.Name =~ 'Hepatic failure' MATCH (e)-[dr:Relation]->(f) WHERE f.Name =~ 'Antibiotics' RETURN e, r, c, dr, f\n"
     ]
    }
   ],
   "source": [
    "\n",
    "# Define the route for the home page\n",
    "@app.route('/')\n",
    "def home():\n",
    "    return render_template('index.html')\n",
    "\n",
    "\n",
    "\n",
    "# Define the route for the Cypher query - Student\n",
    "@app.route('/convert_nlp_to_cypher', methods=['POST'])\n",
    "def stu_query():\n",
    "    # Get the natural language query from the HTML form\n",
    "    query_text = request.form.get('nlp_query')\n",
    "    print(\"query_text\",query_text)\n",
    "    # Parse the natural language query using spaCy\n",
    "    doc = nlp(query_text)\n",
    "    doc_lower = nlp(query_text.lower())\n",
    "    print(\"Parse the natural language query using spaCy\",doc)\n",
    "    #determine Question type\n",
    "    quesType = determine_question_type(doc_lower)\n",
    "    print(\"quesType\",quesType)\n",
    "    \n",
    "\n",
    "    \n",
    "    \n",
    "    # Generate Cypher query\n",
    "    cypher_query = generate_cypher_query(query_text,quesType)\n",
    "    print(cypher_query)\n",
    "    # Return the result as a JSON object\n",
    "    return cypher_query\n",
    "\n",
    "\n",
    "if __name__ == '__main__':\n",
    "    app.run(port=8080)\n"
   ]
  },
  {
   "cell_type": "code",
   "execution_count": null,
   "id": "45df4b86",
   "metadata": {},
   "outputs": [],
   "source": []
  }
 ],
 "metadata": {
  "kernelspec": {
   "display_name": "Python 3 (ipykernel)",
   "language": "python",
   "name": "python3"
  },
  "language_info": {
   "codemirror_mode": {
    "name": "ipython",
    "version": 3
   },
   "file_extension": ".py",
   "mimetype": "text/x-python",
   "name": "python",
   "nbconvert_exporter": "python",
   "pygments_lexer": "ipython3",
   "version": "3.9.7"
  }
 },
 "nbformat": 4,
 "nbformat_minor": 5
}
